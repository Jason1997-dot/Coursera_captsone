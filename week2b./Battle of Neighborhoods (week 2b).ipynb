{
    "cells": [
        {
            "metadata": {
                "collapsed": true
            },
            "cell_type": "markdown",
            "source": "# Capstone Project - The Battle of the Neighborhoods (Week 2) : Report"
        },
        {
            "metadata": {},
            "cell_type": "markdown",
            "source": "### Applied Data Science Capstone by IBM/Coursera"
        },
        {
            "metadata": {},
            "cell_type": "markdown",
            "source": "### Table of Contents\n- Introduction: Business Problem\n- Data\n- Methodology\n- Analysis\n- Results and Discussion\n- Conclusion"
        },
        {
            "metadata": {},
            "cell_type": "markdown",
            "source": "## Introduction: Business Problem\n\nIn this project, we will try to search for an ideal location to start a restaurant specifically in Brooklyn, one of the 5 boroughs in New York that has a high density of population. \n\nBy an \"ideal\" location, we would like to detect a location that has high density of population but at the mean time to lessen the competition of the same sector. Besides, we would like to know which income group of people will be attracted most to it based on the location. \n\nBeing in a borough that is crowded, with the power of data science, we would like to generate a few potential neighborhoods based on these criterias. Advantages of each area will then be clearly expressed so that the best possible final location can be choosen by the stakeholders. "
        },
        {
            "metadata": {},
            "cell_type": "markdown",
            "source": "## Data\n\n#### Based on the problem, some dependent factors are listed as below:\n\n- Existing restaurants in the neighbourfood\n- Population and group of people with their income\n\nWe decided to use regularly spaced grid of locations, centered around city center, to define our neighborhoods\n\n#### The following would be the data sources gathered to extract the information needed:\n\n- This csv file contains the data for all the 5 boroughs in New York which also includes coordinates and their neighborhoods respectively. \n\nLink : https://cf-courses-data.s3.us.cloud-object-storage.appdomain.cloud/IBMDeveloperSkillsNetwork-DS0701EN-SkillsNetwork/labs/newyork_data.json\n\n\n- Using foursquare data to get inforamtion about restaurants in Brooklyn.\n\nLink: https://foursquare.com/explore?mode=url&ne=44.418088%2C-78.362732&q=Restaurant&sw=42.742978%2C-80.554504"
        },
        {
            "metadata": {},
            "cell_type": "markdown",
            "source": "## Methodology\n\nBased on the data sets above, we can easily identify the locality information of Brooklyn, different group of people in the population.\n\nTo solve the problem, the methods that I had used is the \"K-Means Clustering Algorithm\". K-means clustering is a type of unsupervised learning which can group data based on the similarities of the location to each other. The objective of K-Means is to form clusters in such a way that similar samples go into a cluster, and dissimilar samples fall into different cluster by using the dissimilarity metrics. By doing so, we need to determine the centroids of K clusters, which can be used to label new data Labels for the training data.\n\nAs for steps we took for the analysis:\n\n1. We searched and collected all of our required data of every restaurant with our lat and lng.\n\n2. We have found the frequency of common venues of each neighborhood and arrange them accordingly from the most common to the least. By doing so, we are able to clearly visualize the density of either a bar, restaurant, or cafe within the area.\n\n3. We then explored the most promising area and within that area, we create clusters of locations that meet the \"ideal\" criterias of the location. In addition, we have set a radius of 500 meters of the location to visualize the density of restaurants. To get a better understanding, we have presented a map that shows each cluster presented by using folium.\n"
        },
        {
            "metadata": {},
            "cell_type": "markdown",
            "source": "## Analysis\n\n####  Data Identification, capturing and cleaning\nWe search for relevant data and capture it followed by removing all redundant value(data cleaning) and only used the data that is related to Brooklyn only. \n\n####  Using Foursquare API to explore the neighborhoods\nWe explored the neighborhoods in the city of Brooklyn, using the latitude and lonitude data using the foursquare API. We then look in depth to the categories of each location to determine the frequency and the mean of it at each location. Following that, we identify the top 10 venues for each negihborhood by sequencing them.\n\n#### Clustering\nWith an assumption of 5 clusters, we used the K-cluster algorithm to segment the neghborhood into 5 clusters. We then explore each cluster and determine the discriminating venue categories that distinguish each cluster. By using the dataframe for analysis, we are able to determine the number of restaurants/bars/cafes within the cluster.  "
        },
        {
            "metadata": {},
            "cell_type": "markdown",
            "source": "## Results and discussion\n\nThe coordinates for Brooklyn is 40.6501038, -73.9495823. Based on this results that we gathered, it seems that pizza place is overrated as it can be found mostly in the clusters. Hence, it will be not adviceable to have a pizza restaurant in that area. \n\nIn addition, as mentioned, an \"optimal\" location should be a neighborhood that is densely populated as in the mean time, to have lesser competition. With this in mind,  places like (Millisland) in cluster 2 and (Paergedat Basin) in cluster 5 are not suitable as these clusters mostly provide services and hence has no vibes for people to have a meal at the area although there is not much of competitors in it.\n\nBased on my deduction on the data, the recommended clusters would be cluster 1 and 3. Although there is some restaurants there, it will definelty be a hit spot where consumers will be willing to spend their leisure time in it based on their business categories attributes. Though there is some competition, being in the centre of Brooklyn, thee neighborhoods will be filled with high density of populations. Hence, these areas meets our criteria as an optimal location.\n\nHowever, taken into other criterias like income, job, family type, landscapes, level of noise, proximity to public transport, these recommendations can be only taken as a primary suggestion as further actions or analysis should be taken into consideration before making the decision. "
        },
        {
            "metadata": {},
            "cell_type": "markdown",
            "source": "## Conclusion\nThe purpose of this project is met where we are able to find an optimal neighborhood which is beneficial to the stakeholders in opening a restaurant. The recommended cluster is cluster 1 and 3. \n\nAs a brief summary, we have found the restaurant density distribtion from Foursquare based on the neighborhoods of Brooklyn. Clustering of those locations was then performed in order to create major zones of interest (containing greatest number of potential locations) and addresses of those zone centers were created to be used as starting points for final exploration by stakeholders.\n"
        },
        {
            "metadata": {},
            "cell_type": "code",
            "source": "",
            "execution_count": null,
            "outputs": []
        }
    ],
    "metadata": {
        "kernelspec": {
            "name": "python3",
            "display_name": "Python 3.7",
            "language": "python"
        },
        "language_info": {
            "name": "python",
            "version": "3.7.10",
            "mimetype": "text/x-python",
            "codemirror_mode": {
                "name": "ipython",
                "version": 3
            },
            "pygments_lexer": "ipython3",
            "nbconvert_exporter": "python",
            "file_extension": ".py"
        }
    },
    "nbformat": 4,
    "nbformat_minor": 1
}