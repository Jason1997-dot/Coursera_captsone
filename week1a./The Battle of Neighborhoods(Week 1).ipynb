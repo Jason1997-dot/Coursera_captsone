{
    "cells": [
        {
            "metadata": {},
            "cell_type": "markdown",
            "source": "# Peer-graded Assignment : Capstone Project - The Battle of Neighborhoods (Week 1a)"
        },
        {
            "metadata": {},
            "cell_type": "markdown",
            "source": "In this project, we will be exploring the city of Brooklyn to open a new restaurant"
        },
        {
            "metadata": {},
            "cell_type": "markdown",
            "source": "## Introduction"
        },
        {
            "metadata": {},
            "cell_type": "markdown",
            "source": "In this project, we will be exploring the data of cities in Brooklyn, New York.\n\nThis project would be targeting those stakeholders who want to open a new restaurant in the city of Brooklyn where the location is optimal while keeping in mind of the competitors within the area. By that, we would like to discover which population of people would be attracted to it based on the population of the neighborhood. "
        },
        {
            "metadata": {},
            "cell_type": "markdown",
            "source": "## Business Problem"
        },
        {
            "metadata": {},
            "cell_type": "markdown",
            "source": "Brooklyn is one of the 5 borough in New York City. It is considered as the most-popular contry in the state with the 2nd most densely populated country in the US with an estimated of 2648403 residents in 2020.It shares a land border with the borough Queens, at the western end of Long Island. With a land area of 70.82 square miles and a warer area of 26 square miles, it is the New York state's fourth smallest conty by land area, and third smallest by total area, though with the highly density population. \n\nIt would be an ideal borough to start a restaurant here. However, having such a vast population and big geographical area, there will be a lot of competitors within. It will be a challenging problem for new stakeholders to decide an optimal location while choosing a place to startup their restaurants. The contradiction of an optimal place is to have an area with high population rate but in the mean time to limit competition within the area to the lowest as possible in order to get the best revenue.\n\nBased on the condition, this project would solve the problem by suggesting places to the target stakeholders, to choose the best locality to open new restaurants and gaining the maximum profits in the borough of Brooklyn, New York. "
        },
        {
            "metadata": {},
            "cell_type": "code",
            "source": "",
            "execution_count": null,
            "outputs": []
        }
    ],
    "metadata": {
        "kernelspec": {
            "name": "python3",
            "display_name": "Python 3.7",
            "language": "python"
        },
        "language_info": {
            "name": "python",
            "version": "3.7.9",
            "mimetype": "text/x-python",
            "codemirror_mode": {
                "name": "ipython",
                "version": 3
            },
            "pygments_lexer": "ipython3",
            "nbconvert_exporter": "python",
            "file_extension": ".py"
        }
    },
    "nbformat": 4,
    "nbformat_minor": 1
}